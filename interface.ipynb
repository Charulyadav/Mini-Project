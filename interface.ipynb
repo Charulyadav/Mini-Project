{
 "cells": [
  {
   "cell_type": "code",
   "execution_count": 4,
   "id": "b67fd2c0",
   "metadata": {},
   "outputs": [
    {
     "name": "stdout",
     "output_type": "stream",
     "text": [
      "Note: you may need to restart the kernel to use updated packages.\n"
     ]
    },
    {
     "name": "stderr",
     "output_type": "stream",
     "text": [
      "ERROR: Could not find a version that satisfies the requirement tkinter (from versions: none)\n",
      "ERROR: No matching distribution found for tkinter\n"
     ]
    }
   ],
   "source": [
    "pip install tkinter pillow tensorflow"
   ]
  },
  {
   "cell_type": "code",
   "execution_count": 1,
   "id": "9ce28ae2",
   "metadata": {},
   "outputs": [
    {
     "name": "stdout",
     "output_type": "stream",
     "text": [
      "WARNING:tensorflow:From C:\\Users\\Charul\\anaconda3\\Lib\\site-packages\\keras\\src\\losses.py:2976: The name tf.losses.sparse_softmax_cross_entropy is deprecated. Please use tf.compat.v1.losses.sparse_softmax_cross_entropy instead.\n",
      "\n"
     ]
    }
   ],
   "source": [
    "import tkinter as tk\n",
    "from tkinter import filedialog\n",
    "from PIL import Image, ImageTk\n",
    "import tensorflow as tf"
   ]
  },
  {
   "cell_type": "code",
   "execution_count": 2,
   "id": "fda108ce",
   "metadata": {},
   "outputs": [
    {
     "name": "stdout",
     "output_type": "stream",
     "text": [
      "WARNING:tensorflow:From C:\\Users\\Charul\\anaconda3\\Lib\\site-packages\\keras\\src\\backend.py:1398: The name tf.executing_eagerly_outside_functions is deprecated. Please use tf.compat.v1.executing_eagerly_outside_functions instead.\n",
      "\n",
      "WARNING:tensorflow:From C:\\Users\\Charul\\anaconda3\\Lib\\site-packages\\keras\\src\\layers\\pooling\\max_pooling2d.py:161: The name tf.nn.max_pool is deprecated. Please use tf.nn.max_pool2d instead.\n",
      "\n"
     ]
    }
   ],
   "source": [
    "# Load your deep learning model\n",
    "model = tf.keras.models.load_model(\"C://Users//Charul//Desktop//MCA'24//Mini Project//Image-Forgery-Detection-master//model_casia_run1.h5\")"
   ]
  },
  {
   "cell_type": "code",
   "execution_count": 31,
   "id": "b52fb806",
   "metadata": {},
   "outputs": [
    {
     "name": "stdout",
     "output_type": "stream",
     "text": [
      "1/1 [==============================] - 0s 29ms/step\n"
     ]
    }
   ],
   "source": [
    "class ImageClassifierApp:\n",
    "    def __init__(self, root):\n",
    "        self.root = root\n",
    "        self.root.title(\"Image Classifier\")\n",
    "\n",
    "        # Create and configure GUI components\n",
    "        self.title_label = tk.Label(root, text=\"Image Forgery Detector\", font=(\"Helvetica\", 16, \"bold\"))\n",
    "        self.title_label.pack(pady=10)\n",
    "\n",
    "        self.image_label = tk.Label(root)\n",
    "        self.image_label.pack()\n",
    "\n",
    "        self.classify_button = tk.Button(root, text=\"Classify\", command=self.classify_image, bg=\"#228B22\", fg=\"white\", padx=10, pady=5)\n",
    "        self.classify_button.pack(pady=10)\n",
    "\n",
    "        self.quit_button = tk.Button(root, text=\"Quit\", command=root.destroy, bg=\"#F08080\", fg=\"white\", padx=10, pady=5)\n",
    "        self.quit_button.pack(pady=10)\n",
    "\n",
    "    def classify_image(self):\n",
    "        file_path = filedialog.askopenfilename(filetypes=[(\"Image files\", \"*.png;*.jpg;*.jpeg\")])\n",
    "\n",
    "        if file_path:\n",
    "            img = Image.open(file_path)\n",
    "            img = img.resize((500, 500))  # Resize to match the input size expected by your model\n",
    "            img_tk = ImageTk.PhotoImage(img)\n",
    "\n",
    "            self.image_label.config(image=img_tk)\n",
    "            self.image_label.image = img_tk\n",
    "\n",
    "            # Convert PhotoImage to PIL.Image.Image\n",
    "            img_pil = ImageTk.getimage(img_tk)\n",
    "\n",
    "            # Ensure the image has three channels (remove alpha channel)\n",
    "            img_pil = img_pil.convert(\"RGB\")\n",
    "\n",
    "            # Preprocess the image for your model (modify according to your preprocessing steps)\n",
    "            img_array = tf.keras.preprocessing.image.img_to_array(img_pil)\n",
    "            img_array = tf.expand_dims(img_array, 0)\n",
    "\n",
    "            # Resize the image to match the model's expected input shape\n",
    "            img_array = tf.image.resize(img_array, (128, 128))\n",
    "\n",
    "            # Make predictions using your model\n",
    "            predictions = model.predict(img_array)\n",
    "\n",
    "            threshold = 0.55\n",
    "            if predictions[0][0] > threshold:\n",
    "                result = \"Real\"\n",
    "            else:\n",
    "                result = \"Fake\"\n",
    "\n",
    "            # Display the result\n",
    "            result_label = tk.Label(self.root, text=f\"Classification: {result}\", font=(\"Helvetica\", 14))\n",
    "            result_label.pack(pady=10)\n",
    "\n",
    "if __name__ == \"__main__\":\n",
    "    root = tk.Tk()\n",
    "    app = ImageClassifierApp(root)\n",
    "\n",
    "    # Set window dimensions and center the window on the screen\n",
    "    window_width = 800\n",
    "    window_height = 800\n",
    "    screen_width = root.winfo_screenwidth()\n",
    "    screen_height = root.winfo_screenheight()\n",
    "    x_position = (screen_width - window_width) // 2\n",
    "    y_position = (screen_height - window_height) // 2\n",
    "    root.geometry(f\"{window_width}x{window_height}+{x_position}+{y_position}\")\n",
    "\n",
    "    # Set window background color\n",
    "    root.configure(bg=\"#FFF0F5\")\n",
    "\n",
    "    root.mainloop()"
   ]
  },
  {
   "cell_type": "code",
   "execution_count": null,
   "id": "356cf677",
   "metadata": {},
   "outputs": [],
   "source": []
  }
 ],
 "metadata": {
  "kernelspec": {
   "display_name": "Python 3 (ipykernel)",
   "language": "python",
   "name": "python3"
  },
  "language_info": {
   "codemirror_mode": {
    "name": "ipython",
    "version": 3
   },
   "file_extension": ".py",
   "mimetype": "text/x-python",
   "name": "python",
   "nbconvert_exporter": "python",
   "pygments_lexer": "ipython3",
   "version": "3.11.4"
  }
 },
 "nbformat": 4,
 "nbformat_minor": 5
}
